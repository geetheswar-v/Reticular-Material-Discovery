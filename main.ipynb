{
 "cells": [
  {
   "cell_type": "markdown",
   "id": "5fc3bb2a",
   "metadata": {},
   "source": [
    "# Discovery of Reticular Materials for C0<sub>2</sub> Capture\n",
    "\n",
    "## 0. Necessary Imports"
   ]
  },
  {
   "cell_type": "code",
   "execution_count": 1,
   "id": "1037dc06",
   "metadata": {},
   "outputs": [],
   "source": [
    "import warnings\n",
    "warnings.filterwarnings(\"ignore\")"
   ]
  },
  {
   "cell_type": "code",
   "execution_count": 20,
   "id": "a268573e",
   "metadata": {},
   "outputs": [
    {
     "data": {
      "text/plain": [
       "device(type='cpu')"
      ]
     },
     "execution_count": 20,
     "metadata": {},
     "output_type": "execute_result"
    }
   ],
   "source": [
    "import os\n",
    "import sys\n",
    "import tempfile\n",
    "import subprocess\n",
    "\n",
    "import math\n",
    "import numpy as np\n",
    "import torch\n",
    "import matplotlib.pyplot as plt\n",
    "import seaborn as sns\n",
    "import nglview as nv\n",
    "\n",
    "from IPython.display import display\n",
    "\n",
    "from pymatgen.core.structure import Structure\n",
    "from pymatgen.core.periodic_table import Element\n",
    "from material import MaterialBuilder, RMSDMask, AngleMask, CombinedMask\n",
    "from gflow.environment import SequenceEnvironment\n",
    "from gflow.agent import TrajectoryBalanceGFlowNet\n",
    "from gflow.model import LSTM\n",
    "\n",
    "sns.set_theme()\n",
    "plt.rcParams.update({'font.size': 12})\n",
    "device = torch.device(\"cpu\")\n",
    "device"
   ]
  },
  {
   "cell_type": "markdown",
   "id": "12387fe9",
   "metadata": {},
   "source": [
    "# MOF Reticular Materials\n",
    "Metal-Organic Frameworks (MOFs) are crystalline materials consisting of metal ions or clusters coordinated to organic ligands to form one-, two-, or three-dimensional structures. They have exceptional properties including:\n",
    "\n",
    "- Ultra-high porosity\n",
    "- Large surface areas (up to 7,000 m²/g)\n",
    "- Tunable pore sizes and chemical functionalities\n",
    "\n",
    "MOFs have applications in gas storage, separation, catalysis, sensing, and drug delivery. However, with millions of possible combinations of building blocks, finding MOFs with optimal properties for CO2 capture is challenging."
   ]
  },
  {
   "cell_type": "markdown",
   "id": "b603268d",
   "metadata": {},
   "source": [
    "## 1. Understanding Masks for Building Block Selection\n",
    "\n",
    "Masks are crucial components that determine which building blocks are compatible with each position in a topology. They filter the available options based on geometric and structural compatibility.\n",
    "\n",
    "Three types of masks are implemented:\n",
    "\n",
    "1. **RMSDMask**: Filters building blocks based on Root Mean Square Deviation (RMSD) between the building block and local structure in the topology\n",
    "2. **AngleMask**: Filters based on angular deviations between connection points\n",
    "3. **CombinedMask**: Uses both RMSD and angular criteria for more precise filtering\n",
    "\n",
    "Let's explore how these different masks affect the MOF design process."
   ]
  },
  {
   "cell_type": "markdown",
   "id": "ce80f215",
   "metadata": {},
   "source": [
    "### 1.1 Topology\n",
    "\n",
    "- Using Pormake Database, It has different types of Topolgy Available\n",
    "- There are bilions of MOF with different topologies are their for CO<sub>2</sub> Capture\n",
    "- We are first consider of Using **ffc**"
   ]
  },
  {
   "cell_type": "code",
   "execution_count": 4,
   "id": "f0ccc18f",
   "metadata": {},
   "outputs": [],
   "source": [
    "topology_string = \"ffc\""
   ]
  },
  {
   "cell_type": "code",
   "execution_count": 5,
   "id": "6fb4d760",
   "metadata": {},
   "outputs": [
    {
     "name": "stdout",
     "output_type": "stream",
     "text": [
      "Total slots (nodes + edges): 5\n",
      "Allowed Building Blocks: 1,452,000,000\n"
     ]
    }
   ],
   "source": [
    "combined_mask = CombinedMask(rmsd_cutoff=0.3, angle_cutoff=45)\n",
    "ffc_builder = MaterialBuilder(topology_string=topology_string, mask=combined_mask)\n",
    "print(f\"Total slots (nodes + edges): {ffc_builder.n_slots}\")\n",
    "allowed_seq = math.prod([len(x) for x in ffc_builder.mask.forward_actions_at_each_slot])\n",
    "print(f\"Allowed Building Blocks: {allowed_seq:,}\")"
   ]
  },
  {
   "cell_type": "markdown",
   "id": "7b58e5d6",
   "metadata": {},
   "source": [
    "### 1.2 Comparing Different Masks\n",
    "\n",
    "Now we'll create material builders with different masks and compare how they filter the vocabulary of building blocks."
   ]
  },
  {
   "cell_type": "code",
   "execution_count": 104,
   "id": "90716900",
   "metadata": {},
   "outputs": [
    {
     "name": "stdout",
     "output_type": "stream",
     "text": [
      "Number of allowed building blocks at each node position:\n",
      "Position 0: RMSD=93, Angle=23, Combined=20\n",
      "Position 1: RMSD=92, Angle=25, Combined=20\n",
      "Position 2: RMSD=75, Angle=73, Combined=73\n"
     ]
    }
   ],
   "source": [
    "# Create different masks\n",
    "rmsd_mask = RMSDMask(rmsd_cutoff=0.3)  # Default: more permissive\n",
    "angle_mask = AngleMask(angle_cutoff=30.0)  # Filter by connection point angles\n",
    "combined_mask = CombinedMask(rmsd_cutoff=0.3, angle_cutoff=30.0)  # More restrictive\n",
    "\n",
    "# Create material builders with different masks\n",
    "builder_rmsd = MaterialBuilder(topology_string, mask=rmsd_mask)\n",
    "builder_angle = MaterialBuilder(topology_string, mask=angle_mask)\n",
    "builder_combined = MaterialBuilder(topology_string, mask=combined_mask)\n",
    "\n",
    "# Compare the number of allowed building blocks for each position\n",
    "print(\"Number of allowed building blocks at each node position:\")\n",
    "for i in range(builder_rmsd.n_nodes):\n",
    "    rmsd_allowed = len(builder_rmsd.mask.forward_actions_at_each_slot[i])\n",
    "    angle_allowed = len(builder_angle.mask.forward_actions_at_each_slot[i])\n",
    "    combined_allowed = len(builder_combined.mask.forward_actions_at_each_slot[i])\n",
    "    print(f\"Position {i}: RMSD={rmsd_allowed}, Angle={angle_allowed}, Combined={combined_allowed}\")"
   ]
  },
  {
   "cell_type": "code",
   "execution_count": 5,
   "id": "26d32eec",
   "metadata": {},
   "outputs": [
    {
     "name": "stdout",
     "output_type": "stream",
     "text": [
      "Total possible building blocks\n",
      "RMSD: 31,058,280,000 Angle: 2,031,590,000 Combined: 1,413,280,000\n"
     ]
    }
   ],
   "source": [
    "# Total Possible building blocks can be constructed with above constraints\n",
    "rmsd_allowed = math.prod([len(x) for x in builder_rmsd.mask.forward_actions_at_each_slot])\n",
    "angle_allowed = math.prod([len(x) for x in builder_angle.mask.forward_actions_at_each_slot])\n",
    "combined_allowed = math.prod([len(x) for x in builder_combined.mask.forward_actions_at_each_slot])\n",
    "print(f\"Total possible building blocks\")\n",
    "print(f\"RMSD: {rmsd_allowed:,} Angle: {angle_allowed:,} Combined: {combined_allowed:,}\")"
   ]
  },
  {
   "cell_type": "markdown",
   "id": "2a65a200",
   "metadata": {},
   "source": [
    "### 1.3 Visualizing Structures using NGLView (Able to see the atoms)"
   ]
  },
  {
   "cell_type": "code",
   "execution_count": 9,
   "id": "fca3e75d",
   "metadata": {},
   "outputs": [
    {
     "name": "stdout",
     "output_type": "stream",
     "text": [
      "Random sequence: ['N263', 'N303', 'N639', 'E50', 'E43']\n"
     ]
    },
    {
     "data": {
      "application/vnd.jupyter.widget-view+json": {
       "model_id": "a9e002aac6b44485b680ea3c7da9250a",
       "version_major": 2,
       "version_minor": 0
      },
      "text/plain": [
       "NGLWidget()"
      ]
     },
     "metadata": {},
     "output_type": "display_data"
    }
   ],
   "source": [
    "seq = ffc_builder.random_sequence()\n",
    "print(f\"Random sequence: {seq}\")\n",
    "structure = ffc_builder.make_structure(seq)\n",
    "nv.show_pymatgen(structure)"
   ]
  },
  {
   "cell_type": "code",
   "execution_count": 14,
   "id": "55c53a33",
   "metadata": {},
   "outputs": [
    {
     "name": "stdout",
     "output_type": "stream",
     "text": [
      "Random sequence: ['N417', 'N201', 'N10', 'E112', 'E27']\n"
     ]
    },
    {
     "data": {
      "application/vnd.jupyter.widget-view+json": {
       "model_id": "4f2a8d85a692416c820f3095960c465c",
       "version_major": 2,
       "version_minor": 0
      },
      "text/plain": [
       "NGLWidget()"
      ]
     },
     "metadata": {},
     "output_type": "display_data"
    }
   ],
   "source": [
    "seq = ffc_builder.random_sequence()\n",
    "print(f\"Random sequence: {seq}\")\n",
    "structure = ffc_builder.make_structure(seq)\n",
    "nv.show_pymatgen(structure)"
   ]
  },
  {
   "cell_type": "markdown",
   "id": "c1b357a1",
   "metadata": {},
   "source": [
    "**Theoretical Insight: Choosing the Right Mask**\n",
    "\n",
    "The choice of mask involves a trade-off between:\n",
    "\n",
    "- **Exploration space**: More permissive masks (like basic RMSD) allow exploration of a larger design space\n",
    "- **Structural integrity**: More restrictive masks (like Combined) lead to more structurally sound MOFs\n",
    "\n",
    "**Best practices:**\n",
    "- Use **RMSDMask** when you want to explore a wide variety of potential structures\n",
    "- Use **AngleMask** when connection geometries are critical for your application\n",
    "- Use **CombinedMask** when you need high-quality, structurally sound MOFs\n",
    "\n",
    "For CO2 capture applications, the CombinedMask typically provides the best balance because structural integrity is crucial for maintaining adsorption sites."
   ]
  },
  {
   "cell_type": "markdown",
   "id": "7a7da483",
   "metadata": {},
   "source": [
    "## 2. Reward Functions for CO2 Capture\n",
    "\n",
    "To guide the MOF design process for CO2 capture, we need reward functions that quantify how well a MOF performs for this specific application. Key properties for CO2 capture include:\n",
    "\n",
    "- **Surface area**: Larger surface areas generally provide more adsorption sites for CO2 molecules\n",
    "- **Pore size distribution**: Pores of appropriate size can selectively capture CO2 over other gases\n",
    "- **Chemical functionality**: Specific functional groups that interact strongly with CO2"
   ]
  },
  {
   "cell_type": "markdown",
   "id": "27c0bc59",
   "metadata": {},
   "source": [
    "### 2.1 Surface Area Rewarder\n",
    "\n",
    "- This is according to Our Given research paper\n",
    "- Used zeo++ to calculate surface area"
   ]
  },
  {
   "cell_type": "code",
   "execution_count": 42,
   "id": "b3a7050c",
   "metadata": {},
   "outputs": [],
   "source": [
    "class SurfaceAreaRewarder():\n",
    "    def __init__(self, builder, cutoff, temporary_dir = \"scratch\"):\n",
    "        self.builder = builder\n",
    "        self.cutoff = cutoff\n",
    "        self.temporary_dir = temporary_dir\n",
    "        os.makedirs(temporary_dir, exist_ok=True)\n",
    "\n",
    "    def reward(self, sequence):\n",
    "        with tempfile.NamedTemporaryFile(suffix=\".cif\", dir=self.temporary_dir, delete=True) as temp:\n",
    "            mof = self.builder.make_pormake_mof(sequence)\n",
    "            mof.write_cif(temp.name)\n",
    "\n",
    "            command=(['./network']  + ['-sa'] + ['1.525'] + ['1.525'] + ['2000'] + [temp.name])\n",
    "            subprocess.run(command,stdout = subprocess.DEVNULL)\n",
    "\n",
    "            output_filename = temp.name.removesuffix(\".cif\") + \".sa\"\n",
    "            \n",
    "            if os.path.exists(output_filename) == False:\n",
    "                output_reward = 0\n",
    "            else: \n",
    "                with open(output_filename) as result_file:\n",
    "                    lines=[] \n",
    "                    for line in result_file:\n",
    "                        lines.append(line.rstrip())\n",
    "\n",
    "                    # Zeo++ writes empty output file for sone non-physical MOFs. Reward them as 0.\n",
    "                    if len(lines)==0:\n",
    "                        output_reward = 0\n",
    "                    else:\n",
    "                        frags=lines[0].split()\n",
    "                        NASA=float(frags[17])\n",
    "                        ASA=float(frags[11])\n",
    "\n",
    "                        # Gravimetric surface area is NASA + ASA\n",
    "                        area = ASA + NASA\n",
    "\n",
    "                        output_reward = math.exp((area - self.cutoff) / self.cutoff)\n",
    "            \n",
    "                # Remove zeo++ output file\n",
    "                # Temp file will be removed by the surrounding \"with\"\n",
    "                os.remove(output_filename)            \n",
    "\n",
    "            return output_reward\n",
    "        \n",
    "rewarder = SurfaceAreaRewarder(ffc_builder, cutoff=1000)"
   ]
  },
  {
   "cell_type": "code",
   "execution_count": 125,
   "id": "46bb0884",
   "metadata": {},
   "outputs": [
    {
     "name": "stdout",
     "output_type": "stream",
     "text": [
      "Reward for sequence ['N129', 'N129', 'N717', 'E88', 'E116']: 568.0674\n",
      "Reward for sequence ['N524', 'N317', 'N25', 'E7', 'E41']: 1062.2770\n"
     ]
    }
   ],
   "source": [
    "# Testing\n",
    "seq = ffc_builder.random_sequence()\n",
    "rewarder = SurfaceAreaRewarder(ffc_builder, cutoff=1000)\n",
    "reward = rewarder.reward(seq)\n",
    "print(f\"Reward for sequence {seq}: {reward:.4f}\")\n",
    "\n",
    "seq = ffc_builder.random_sequence()\n",
    "rewarder = SurfaceAreaRewarder(ffc_builder, cutoff=1000)\n",
    "reward = rewarder.reward(seq)\n",
    "print(f\"Reward for sequence {seq}: {reward:.4f}\")"
   ]
  },
  {
   "cell_type": "code",
   "execution_count": 50,
   "id": "f711a118",
   "metadata": {},
   "outputs": [
    {
     "data": {
      "application/vnd.jupyter.widget-view+json": {
       "model_id": "a712571cbc2d4f19a3db8e10433f94d9",
       "version_major": 2,
       "version_minor": 0
      },
      "text/plain": [
       "NGLWidget()"
      ]
     },
     "metadata": {},
     "output_type": "display_data"
    },
    {
     "data": {
      "application/vnd.jupyter.widget-view+json": {
       "model_id": "ef38e79f53b74486816b9c0009782463",
       "version_major": 2,
       "version_minor": 0
      },
      "text/plain": [
       "NGLWidget()"
      ]
     },
     "metadata": {},
     "output_type": "display_data"
    }
   ],
   "source": [
    "# Viewing Structures for the above sequences\n",
    "seq1 = ['N129', 'N129', 'N717', 'E88', 'E116']\n",
    "seq2 = ['N524', 'N317', 'N25', 'E7', 'E41']\n",
    "\n",
    "structure1 = ffc_builder.make_structure(seq1)\n",
    "structure2 = ffc_builder.make_structure(seq2)\n",
    "\n",
    "# Visualize the structures\n",
    "view1 = nv.show_pymatgen(structure1)\n",
    "view2 = nv.show_pymatgen(structure2)\n",
    "display(view1)\n",
    "display(view2)"
   ]
  },
  {
   "cell_type": "markdown",
   "id": "e43c5f52",
   "metadata": {},
   "source": [
    "### 2.2 Pore Size Distribution\n",
    "\n",
    "- According to seperation of CO<sub>2</sub> from humid flue gas from this [MOFs as a plaform for CO2 capture](https://www.mdpi.com/2073-4344/10/11/1293)\n",
    "\n",
    "Using tunable pore sizes(when preparation of MOFs), Increase in pore sizes(Acording to molecular length of CO<sub>2</sub>) will increase the sites for separting the CO<sub>2</sub> from flue gas\n",
    "\n",
    "- Below, we build a reward function according to above descrption"
   ]
  },
  {
   "cell_type": "code",
   "execution_count": 51,
   "id": "5f158954",
   "metadata": {},
   "outputs": [],
   "source": [
    "def calculate_void_fraction(structure: Structure) -> float:\n",
    "    \"\"\"Calculate the void fraction (porosity) of a MOF structure.\"\"\"\n",
    "    try:\n",
    "        volume = structure.volume\n",
    "        atomic_volume = 0.0\n",
    "        for site in structure.sites:\n",
    "            element_symbol = site.species_string.split()[0]\n",
    "            radius = Element(element_symbol).atomic_radius\n",
    "            if radius is None:\n",
    "                radius = 1.5\n",
    "            atomic_volume += (4.0 / 3.0) * np.pi * (radius ** 3)\n",
    "        void_fraction = 1 - (atomic_volume / volume)\n",
    "        return max(0, min(void_fraction, 1))\n",
    "    except Exception as e:\n",
    "        print(f\"Error calculating void fraction: {e}\")\n",
    "        return 0.0"
   ]
  },
  {
   "cell_type": "code",
   "execution_count": 52,
   "id": "570e2623",
   "metadata": {},
   "outputs": [
    {
     "name": "stdout",
     "output_type": "stream",
     "text": [
      "Void fraction for sequence ['N129', 'N129', 'N717', 'E88', 'E116']: 0.9935\n",
      "Void fraction for sequence ['N524', 'N317', 'N25', 'E7', 'E41']: 0.9966\n"
     ]
    }
   ],
   "source": [
    "void_fraction1 = calculate_void_fraction(structure1) \n",
    "void_fraction2 = calculate_void_fraction(structure2)\n",
    "print(f\"Void fraction for sequence {seq1}: {void_fraction1:.4f}\")\n",
    "print(f\"Void fraction for sequence {seq2}: {void_fraction2:.4f}\")"
   ]
  },
  {
   "cell_type": "markdown",
   "id": "fbcd9824",
   "metadata": {},
   "source": [
    "### 2.3 Chemical Functionality Rewarder\n",
    "\n",
    "Here in this paper [Construction of Zn–Cu-BTC for CO2 Capture](https://pubs.rsc.org/en/content/articlehtml/2024/ra/d4ra03539a) they compare Zn, Cu, Zn-Cu BTC MOF perfermance on CO<sub>2</sub> Capture. \n",
    "- The results are Zn-Cu-BTC > Zn-BTC > Cu-BTC.\n",
    "- So, Affnity of elements can be taken as reward\n",
    "- According to our research we find Zn, Cu, Mg, Al, N have high afiinities to CO<sub>2</sub>\n",
    "- So, I made a function to caluate affnities, which can be a reward\n",
    "\n",
    "**Limitations**\n",
    "- If a MOF don't have this elements it gives value 0\n",
    "- So, using this might hinder other properties"
   ]
  },
  {
   "cell_type": "code",
   "execution_count": 53,
   "id": "df97f3c0",
   "metadata": {},
   "outputs": [],
   "source": [
    "def calculate_co2_affinity(structure: Structure) -> float:\n",
    "    \"\"\"Calculate estimated CO2 affinity based on presence of functional groups.\"\"\",\n",
    "    try:\n",
    "        element_counts = structure.composition.get_el_amt_dict()\n",
    "        # According to research on MOFs, This exlement is known to bind CO2\n",
    "        # And I added affinity according to their binding strength\n",
    "        co2_friendly_elements = {\n",
    "            'N': 1.5,  # Nitrogen-containing groups like amines bind CO2\n",
    "            'O': 1.2,  # Oxygen in carboxylate groups\n",
    "            'Zn': 1.8,  # Metal sites often serve as strong binding sites\n",
    "            'Cu': 2.0,  # Copper open metal sites are excellent for CO2\n",
    "            'Mg': 1.7,  # Magnesium sites\n",
    "            'Al': 1.5   # Aluminum sites\n",
    "        }\n",
    "        \n",
    "        # Calculate affinity score\n",
    "        affinity_score = 0\n",
    "        total_atoms = sum(element_counts.values())\n",
    "        \n",
    "        for element, weight in co2_friendly_elements.items():\n",
    "            if element in element_counts:\n",
    "                affinity_score += (element_counts[element] / total_atoms) * weight\n",
    "        \n",
    "        return affinity_score\n",
    "    except Exception as e:\n",
    "        print(f\"Error calculating CO2 affinity: {e}\")\n",
    "        return 0.0"
   ]
  },
  {
   "cell_type": "code",
   "execution_count": 54,
   "id": "e01d3289",
   "metadata": {},
   "outputs": [
    {
     "name": "stdout",
     "output_type": "stream",
     "text": [
      "CO2 affinity for sequence ['N129', 'N129', 'N717', 'E88', 'E116']: 0.1734\n",
      "CO2 affinity for sequence ['N524', 'N317', 'N25', 'E7', 'E41']: 0.4185\n"
     ]
    }
   ],
   "source": [
    "print(f\"CO2 affinity for sequence {seq1}: {calculate_co2_affinity(structure1):.4f}\")\n",
    "print(f\"CO2 affinity for sequence {seq2}: {calculate_co2_affinity(structure2):.4f}\")"
   ]
  },
  {
   "cell_type": "markdown",
   "id": "511a54d1",
   "metadata": {},
   "source": [
    "### 2.4 Making a Optimal Reward function\n",
    "\n",
    "Considering Three methods, We can make a reward function that takes all 3 properties into consideration might be a best reward function"
   ]
  },
  {
   "cell_type": "code",
   "execution_count": 61,
   "id": "fe73b9f7",
   "metadata": {},
   "outputs": [],
   "source": [
    "def co2_capture_reward(sequence, structure):\n",
    "    if not sequence or not structure:\n",
    "        return 0.0\n",
    "    \n",
    "    try:\n",
    "        contibutions = {\n",
    "            'sa': 0.5, # Surface area\n",
    "            'vf': 0.3, # Void fraction\n",
    "            'affine': 0.2 # CO2 affinity\n",
    "        }\n",
    "        \n",
    "        sa_reward = rewarder.reward(sequence)\n",
    "        vf_reward = calculate_void_fraction(structure)\n",
    "        affinity_reward = calculate_co2_affinity(structure)\n",
    "        total_reward = ((contibutions['sa'] * sa_reward) + \n",
    "                        (contibutions['vf'] * vf_reward) + \n",
    "                        (contibutions['affine'] * affinity_reward))\n",
    "        \n",
    "        # Additional Reward\n",
    "        if affinity_reward > 0.5:\n",
    "            total_reward *= 1.2\n",
    "        elif affinity_reward > 0.4:\n",
    "            total_reward *= 1.1\n",
    "            \n",
    "        # Penality\n",
    "        if vf_reward < 0.2:\n",
    "            total_reward *= 0.8\n",
    "            \n",
    "        return total_reward\n",
    "    except Exception as e:\n",
    "        print(f\"Error calculating CO2 capture reward: {e}\")\n",
    "        return 0.0"
   ]
  },
  {
   "cell_type": "code",
   "execution_count": 62,
   "id": "993e68af",
   "metadata": {},
   "outputs": [
    {
     "name": "stdout",
     "output_type": "stream",
     "text": [
      "CO2 capture reward for sequence ['N129', 'N129', 'N717', 'E88', 'E116']: 284.3664\n",
      "CO2 capture reward for sequence ['N524', 'N317', 'N25', 'E7', 'E41']: 584.6733\n"
     ]
    }
   ],
   "source": [
    "print(f\"CO2 capture reward for sequence {seq1}: {co2_capture_reward(seq1, structure1):.4f}\")\n",
    "print(f\"CO2 capture reward for sequence {seq2}: {co2_capture_reward(seq2, structure2):.4f}\")"
   ]
  },
  {
   "cell_type": "markdown",
   "id": "2cc813f3",
   "metadata": {},
   "source": [
    "## 3. GFlowNet for MOF Generation\n",
    "\n",
    "### 3.1 Understanding GFlowNet\n",
    "\n",
    "GFlowNet (Generative Flow Network) is a novel approach to generative modeling that learns a stochastic policy for sequential object generation. Unlike RL methods that maximize expected reward, GFlowNets learn to sample objects with probability proportional to their reward, which helps maintain diversity in generation.\n",
    "\n",
    "Key advantages of GFlowNet for MOF design:\n",
    "1. **Diversity**: Samples a diverse set of high-reward structures\n",
    "2. **Avoids reward maximization pitfalls**: Less likely to get stuck in local optima\n",
    "3. **Flow-matching objective**: Provides a more stable training signal\n",
    "4. **Forward and backward policies**: Can both build and \"unbuild\" structures"
   ]
  },
  {
   "cell_type": "code",
   "execution_count": 67,
   "id": "7dbdad65",
   "metadata": {},
   "outputs": [],
   "source": [
    "def final_reward(sequence):\n",
    "    structure = ffc_builder.make_structure(sequence)\n",
    "    reward_value = co2_capture_reward(sequence, structure)\n",
    "    return reward_value"
   ]
  },
  {
   "cell_type": "code",
   "execution_count": 68,
   "id": "92a5abec",
   "metadata": {},
   "outputs": [
    {
     "name": "stdout",
     "output_type": "stream",
     "text": [
      "Observation: []\n",
      "Info: {'sequence': [], 'allowed_forward_actions': [251, 326, 390, 410, 430, 431, 445, 458, 463, 491, 519, 544, 568, 584, 651, 675, 691, 741, 835, 840], 'allowed_backward_actions': []}\n",
      "\n",
      "After taking action 491\n",
      "Observation: [491]\n",
      "Reward: None\n",
      "Terminated: False\n",
      "Info: ['N365']\n"
     ]
    }
   ],
   "source": [
    "env = SequenceEnvironment(\n",
    "    token_vocabulary = ffc_builder.token_vocabulary, \n",
    "    termination_token = ffc_builder.termination_token,\n",
    "    reward_function = lambda x: final_reward(x),\n",
    "    render_function = None,\n",
    "    mask = ffc_builder.mask,\n",
    "    max_sequence_length = ffc_builder.n_slots, \n",
    "    min_sequence_length = ffc_builder.n_slots\n",
    "    )\n",
    "\n",
    "obs, info = env.reset()\n",
    "print(f\"Observation: {obs}\")\n",
    "print(f\"Info: {info}\")\n",
    "\n",
    "action = np.random.choice(info[\"allowed_forward_actions\"])\n",
    "obs, reward, terminated, truncated, info = env.step(action)\n",
    "print(\"\\nAfter taking action\", action)\n",
    "print(\"Observation:\", obs)\n",
    "print(\"Reward:\", reward)\n",
    "print(\"Terminated:\", terminated)\n",
    "print(\"Info:\", info[\"sequence\"])\n",
    "\n",
    "obs, info = env.reset()"
   ]
  },
  {
   "cell_type": "code",
   "execution_count": 69,
   "id": "e91ca7cf",
   "metadata": {},
   "outputs": [],
   "source": [
    "model = LSTM(token_vocabulary = ffc_builder.token_vocabulary, n_actions = env.action_space.n).to(device)\n",
    "agent = TrajectoryBalanceGFlowNet(env, model).to(device)"
   ]
  },
  {
   "cell_type": "markdown",
   "id": "096fad1d",
   "metadata": {},
   "source": [
    "### 3.2 Training the GFlowNet Agent"
   ]
  },
  {
   "cell_type": "code",
   "execution_count": null,
   "id": "fbe9c7e5",
   "metadata": {},
   "outputs": [],
   "source": [
    "agent.train(True)\n",
    "observations, infos, rewards, losses, logZs = agent.fit(learning_rate=3e-3, num_episodes=2000, minibatch_size=5)"
   ]
  },
  {
   "cell_type": "markdown",
   "id": "75dd233e",
   "metadata": {},
   "source": [
    "### 3.3 Visualizing GFlowNet Training Progress"
   ]
  },
  {
   "cell_type": "code",
   "execution_count": 88,
   "id": "74c409cf",
   "metadata": {},
   "outputs": [
    {
     "data": {
      "image/png": "[encoded data removed]",
      "text/plain": [
       "<Figure size 1200x500 with 2 Axes>"
      ]
     },
     "metadata": {},
     "output_type": "display_data"
    }
   ],
   "source": [
    "# losses vs episodes and logZs vs episodes\n",
    "step_losses = np.array(losses)\n",
    "steps = range(0, len(step_losses), 101)\n",
    "step_losses = step_losses[steps]\n",
    "\n",
    "plt.figure(figsize=(12, 5))\n",
    "\n",
    "plt.subplot(1, 2, 1)\n",
    "plt.plot(steps, step_losses, label='Loss')\n",
    "plt.xlabel('Episodes')\n",
    "plt.ylabel('Loss')\n",
    "plt.title('Loss vs Episodes')\n",
    "plt.legend()\n",
    "\n",
    "plt.subplot(1, 2, 2)\n",
    "plt.plot(logZs, label='logZ')\n",
    "plt.xlabel('Episodes')\n",
    "plt.ylabel('logZ')\n",
    "plt.title('logZ vs Episodes')\n",
    "plt.legend()\n",
    "\n",
    "plt.tight_layout()\n",
    "plt.show()"
   ]
  },
  {
   "cell_type": "markdown",
   "id": "c523c802",
   "metadata": {},
   "source": [
    "### 3.4 Generating MOFs with GFlowNet"
   ]
  },
  {
   "cell_type": "code",
   "execution_count": 96,
   "id": "a9285b99",
   "metadata": {},
   "outputs": [
    {
     "name": "stdout",
     "output_type": "stream",
     "text": [
      "Sequence 1: ['N330', 'N365', 'N429', 'E156', 'E114']\n",
      "Reward: 170.6068\n",
      "Void Fraction: 0.9943\n",
      "CO2 Affinity: 0.0925\n",
      "Surface Area: 340.5800\n",
      "----------------------------------------\n",
      "Sequence 2: ['N455', 'N282', 'N20', 'E188', 'E176']\n",
      "Reward: 171.1889\n",
      "Void Fraction: 0.9941\n",
      "CO2 Affinity: 0.0864\n",
      "Surface Area: 341.7468\n",
      "----------------------------------------\n",
      "Sequence 3: ['N710', 'N455', 'N130', 'E63', 'E10']\n",
      "Reward: 81.6713\n",
      "Void Fraction: 0.9924\n",
      "CO2 Affinity: 0.1780\n",
      "Surface Area: 162.6759\n",
      "----------------------------------------\n",
      "Sequence 4: ['N524', 'N710', 'N10', 'E131', 'E130']\n",
      "Reward: 35.6618\n",
      "Void Fraction: 0.9837\n",
      "CO2 Affinity: 0.1038\n",
      "Surface Area: 70.6918\n",
      "----------------------------------------\n",
      "Sequence 5: ['N317', 'N417', 'N410', 'E155', 'E31']\n",
      "Reward: 23.9114\n",
      "Void Fraction: 0.9916\n",
      "CO2 Affinity: 0.2471\n",
      "Surface Area: 47.1291\n",
      "----------------------------------------\n"
     ]
    }
   ],
   "source": [
    "agent.eval()\n",
    "num_samples = 5\n",
    "generated_sequences = []\n",
    "generated_rewards = []\n",
    "\n",
    "for i in range(num_samples):\n",
    "    with torch.no_grad():\n",
    "        obs, info, reward, _ = agent.sample(grad=False)\n",
    "        sequence = info[\"sequence\"][:-1]\n",
    "        generated_sequences.append(sequence)\n",
    "        generated_rewards.append(reward)\n",
    "        \n",
    "details = []\n",
    "for i, seq in enumerate(generated_sequences):\n",
    "    structure = ffc_builder.make_structure(seq)\n",
    "    affine = calculate_co2_affinity(structure)\n",
    "    sa = rewarder.reward(seq)\n",
    "    vf = calculate_void_fraction(structure)\n",
    "    reward = generated_rewards[i]\n",
    "    details.append({\n",
    "        'sequence': seq,\n",
    "        'reward': reward,\n",
    "        'void_fraction': vf,\n",
    "        'co2_affinity': affine,\n",
    "        'surface_area': sa\n",
    "    })\n",
    "    \n",
    "\n",
    "for i, detail in enumerate(details):\n",
    "    print(f\"Sequence {i + 1}: {detail['sequence']}\")\n",
    "    print(f\"Reward: {detail['reward']:.4f}\")\n",
    "    print(f\"Void Fraction: {detail['void_fraction']:.4f}\")\n",
    "    print(f\"CO2 Affinity: {detail['co2_affinity']:.4f}\")\n",
    "    print(f\"Surface Area: {detail['surface_area']:.4f}\")\n",
    "    print(\"-\" * 40)"
   ]
  },
  {
   "cell_type": "markdown",
   "id": "0e8369b7",
   "metadata": {},
   "source": [
    "### 3.5 Comparsion of trained and randon genreation\n",
    "\n",
    "**Limitation**: Since trained on less episodes and also having loss 500. The trained model will not give correct sequences\n",
    "\n",
    "**Increase in Episodes and change in loss backprop will improve model**"
   ]
  },
  {
   "cell_type": "code",
   "execution_count": 97,
   "id": "b76c871c",
   "metadata": {},
   "outputs": [],
   "source": [
    "from tqdm import tqdm"
   ]
  },
  {
   "cell_type": "code",
   "execution_count": 99,
   "id": "49f53390",
   "metadata": {},
   "outputs": [
    {
     "name": "stderr",
     "output_type": "stream",
     "text": [
      "100%|██████████| 1000/1000 [26:24<00:00,  1.58s/it]\n"
     ]
    }
   ],
   "source": [
    "# Even with limitation will compare the geneartion of MOFs\n",
    "agent.eval()\n",
    "num_samples = 1000\n",
    "agent_sequences = []\n",
    "generated_sequences = []\n",
    "\n",
    "for i in tqdm(range(num_samples)):\n",
    "    generated_sequences.append(ffc_builder.random_sequence())\n",
    "    with torch.no_grad():\n",
    "        obs, info, reward, _ = agent.sample(grad=False)\n",
    "        sequence = info[\"sequence\"][:-1]\n",
    "        agent_sequences.append(sequence)"
   ]
  },
  {
   "cell_type": "code",
   "execution_count": 100,
   "id": "c980fc29",
   "metadata": {},
   "outputs": [
    {
     "name": "stderr",
     "output_type": "stream",
     "text": [
      " 17%|█▋        | 168/1000 [04:14<18:32,  1.34s/it]\n",
      "\n",
      "Warning: Resampled 1 points out of 740000\n",
      "\n",
      "100%|██████████| 1000/1000 [24:21<00:00,  1.46s/it]\n",
      "100%|██████████| 1000/1000 [23:57<00:00,  1.44s/it]\n"
     ]
    }
   ],
   "source": [
    "generated_surface_areas = []\n",
    "generated_void_fractions = []\n",
    "generated_co2_affinities = []\n",
    "agent_surface_areas = []\n",
    "agent_void_fractions = []\n",
    "agent_co2_affinities = []\n",
    "\n",
    "for seq in tqdm(generated_sequences):\n",
    "    structure = ffc_builder.make_structure(seq)\n",
    "    generated_surface_areas.append(rewarder.reward(seq))\n",
    "    generated_void_fractions.append(calculate_void_fraction(structure))\n",
    "    generated_co2_affinities.append(calculate_co2_affinity(structure))\n",
    "    \n",
    "for seq in tqdm(agent_sequences):\n",
    "    structure = ffc_builder.make_structure(seq)\n",
    "    agent_surface_areas.append(rewarder.reward(seq))\n",
    "    agent_void_fractions.append(calculate_void_fraction(structure))\n",
    "    agent_co2_affinities.append(calculate_co2_affinity(structure))"
   ]
  },
  {
   "cell_type": "code",
   "execution_count": 120,
   "id": "f97e62a8",
   "metadata": {},
   "outputs": [],
   "source": [
    "contributions = {\n",
    "    'sa': 0.5, # Surface area\n",
    "    'vf': 0.3, # Void fraction\n",
    "    'affine': 0.2 # CO2 affinity\n",
    "}\n",
    "\n",
    "generated_rewards = ((np.array(generated_surface_areas) * contributions['sa']) + \n",
    "                     (np.array(generated_void_fractions) * contributions['vf']) + \n",
    "                     (np.array(generated_co2_affinities) * contributions['affine']))\n",
    "\n",
    "agent_rewards = (np.array(agent_surface_areas) * contributions['sa'] + \n",
    "                 np.array(agent_void_fractions) * contributions['vf'] + \n",
    "                 np.array(agent_co2_affinities) * contributions['affine'])"
   ]
  },
  {
   "cell_type": "code",
   "execution_count": 121,
   "id": "3276e974",
   "metadata": {},
   "outputs": [
    {
     "data": {
      "text/plain": [
       "(146.12730004710022, 143.7219696294348, 1272.812388263846, 2.1138261271393803)"
      ]
     },
     "execution_count": 121,
     "metadata": {},
     "output_type": "execute_result"
    }
   ],
   "source": [
    "agent_rewards.mean(), agent_rewards.std(), agent_rewards.max(), agent_rewards.min()"
   ]
  },
  {
   "cell_type": "code",
   "execution_count": 122,
   "id": "8ff5e0ba",
   "metadata": {},
   "outputs": [
    {
     "data": {
      "text/plain": [
       "(142.46093441812218, 158.30190088101767, 1412.545273445806, 2.6098871963644443)"
      ]
     },
     "execution_count": 122,
     "metadata": {},
     "output_type": "execute_result"
    }
   ],
   "source": [
    "generated_rewards.mean(), generated_rewards.std(), generated_rewards.max(), generated_rewards.min()"
   ]
  },
  {
   "cell_type": "code",
   "execution_count": 124,
   "id": "8a31322a",
   "metadata": {},
   "outputs": [
    {
     "data": {
      "image/png": "[encoded data removed]",
      "text/plain": [
       "<Figure size 1200x1000 with 4 Axes>"
      ]
     },
     "metadata": {},
     "output_type": "display_data"
    }
   ],
   "source": [
    "plt.figure(figsize=(12, 10))\n",
    "\n",
    "plt.subplot(2, 2, 1)\n",
    "plt.hist(generated_surface_areas, bins=30, alpha=0.5, label='Generated')\n",
    "plt.hist(agent_surface_areas, bins=30, alpha=0.5, label='Agent')\n",
    "plt.xlabel('Gravemetric Surface Area(m2/g)')\n",
    "plt.ylabel('Frequency')\n",
    "plt.title('Surface Area Distribution')\n",
    "plt.legend()\n",
    "\n",
    "plt.subplot(2, 2, 2)\n",
    "plt.hist(generated_void_fractions, bins=30, alpha=0.5, label='Generated')\n",
    "plt.hist(agent_void_fractions, bins=30, alpha=0.5, label='Agent')\n",
    "plt.xlabel('Void Fraction')\n",
    "plt.ylabel('Frequency')\n",
    "plt.title('Void Fraction Distribution')\n",
    "plt.legend()\n",
    "\n",
    "plt.subplot(2, 2, 3)\n",
    "plt.hist(generated_co2_affinities, bins=30, alpha=0.5, label='Generated')\n",
    "plt.hist(agent_co2_affinities, bins=30, alpha=0.5, label='Agent')\n",
    "plt.xlabel('CO2 Affinity')\n",
    "plt.ylabel('Frequency')\n",
    "plt.title('CO2 Affinity Distribution')\n",
    "plt.legend()\n",
    "\n",
    "plt.subplot(2, 2, 4)\n",
    "plt.hist(generated_rewards, bins=30, alpha=0.5, label='Generated Rewards')\n",
    "plt.hist(agent_rewards, bins=30, alpha=0.5, label='Agent Rewards')\n",
    "plt.xlabel('Rewards')\n",
    "plt.ylabel('Frequency')\n",
    "plt.title('Rewards Distribution')\n",
    "plt.legend()\n",
    "\n",
    "plt.tight_layout()\n",
    "plt.show()"
   ]
  },
  {
   "cell_type": "markdown",
   "id": "50aa4d4a",
   "metadata": {},
   "source": [
    "# 4. CO<sub>2</sub> Adsorption using Raspa Monte Carlo Method\n",
    "\n",
    "- There is a Raspa library that can use different simulations for CO<sub>2</sub> uptake."
   ]
  },
  {
   "cell_type": "code",
   "execution_count": null,
   "id": "88442055",
   "metadata": {},
   "outputs": [],
   "source": [
    "import os\n",
    "import subprocess\n",
    "import re\n",
    "import pandas as pd\n",
    "import shutil\n",
    "import glob\n",
    "\n",
    "def write_raspa_input(sim_dir, cif_name, temperature, pressure, n_cycles=50000):\n",
    "    tpl = f\"\"\"\n",
    "SimulationType                    MonteCarlo\n",
    "NumberOfInitializationCycles      {int(n_cycles * 0.2)}\n",
    "NumberOfCycles                    {n_cycles}\n",
    "PrintEvery                        {int(n_cycles * 0.01)}\n",
    "\n",
    "Forcefield                        GenericMOFs\n",
    "Framework 0                      {cif_name}\n",
    "\n",
    "Component 0 MoleculeName          CO2\n",
    "Component 0 MoleculeDefinition    TraPPE\n",
    "ExternalTemperature               {temperature}  # K\n",
    "ExternalPressure                  {pressure}     # Pa\n",
    "    \"\"\".strip()\n",
    "    with open(os.path.join(sim_dir, \"simulation.input\"), \"w\") as f:\n",
    "        f.write(tpl)\n",
    "\n",
    "\n",
    "def run_gcmc_on_structures(cifs, pressures, temperature=298.0):\n",
    "    records = []\n",
    "    # Ensure scratch directory exists in current working directory\n",
    "    scratch_root = os.path.join(os.getcwd(), 'scratch')\n",
    "    os.makedirs(scratch_root, exist_ok=True)\n",
    "\n",
    "    for idx, cif_text in enumerate(cifs, start=1):\n",
    "        for p in pressures:\n",
    "            # Create a unique scratch subdirectory for this run\n",
    "            sim_dir = os.path.join(scratch_root, f'struct_{idx}_p_{p}')\n",
    "            os.makedirs(sim_dir, exist_ok=True)\n",
    "\n",
    "            # Write CIF file\n",
    "            cif_name = f'struct_{idx}.cif'\n",
    "            cif_path = os.path.join(sim_dir, cif_name)\n",
    "            with open(cif_path, 'w') as f:\n",
    "                f.write(cif_text)\n",
    "\n",
    "            # Write Raspa input\n",
    "            write_raspa_input(sim_dir, cif_name, temperature, p)\n",
    "\n",
    "            # Run RASPA in the scratch subdirectory\n",
    "            subprocess.run(\n",
    "                ['raspa', '-i', 'simulation.input'],\n",
    "                cwd=sim_dir, check=True\n",
    "            )\n",
    "\n",
    "            # Parse output\n",
    "            uptake = None\n",
    "            out_pattern = os.path.join(sim_dir, 'Output', '**', 'adsorption_isotherm.txt')\n",
    "            for out_file in glob.glob(out_pattern, recursive=True):\n",
    "                with open(out_file) as txtf:\n",
    "                    txt = txtf.read()\n",
    "                m = re.search(r\"loading\\s*=\\s*([\\d\\.]+)\\s*mmol/g\", txt)\n",
    "                if m:\n",
    "                    uptake = float(m.group(1))\n",
    "                    break\n",
    "\n",
    "            records.append({\n",
    "                'structure_index': idx,\n",
    "                'pressure_Pa': p,\n",
    "                'uptake_mmol_per_g': uptake\n",
    "            })\n",
    "\n",
    "            # Clean up the scratch subdirectory for this run\n",
    "            shutil.rmtree(sim_dir)\n",
    "\n",
    "    return pd.DataFrame(records)"
   ]
  },
  {
   "cell_type": "code",
   "execution_count": null,
   "id": "72fe822d",
   "metadata": {},
   "outputs": [],
   "source": [
    "split_seq = agent_sequences[:4]\n",
    "cifs = []\n",
    "for i, seq in enumerate(split_seq):\n",
    "    cif_text = ffc_builder.make_cif(seq)\n",
    "    cifs.append(cif_text)"
   ]
  },
  {
   "cell_type": "code",
   "execution_count": null,
   "id": "0f2c875c",
   "metadata": {},
   "outputs": [],
   "source": [
    "pressures = [1e4, 5e4, 1e5, 5e5, 1e6]\n",
    "df = run_gcmc_on_structures(cifs, pressures)"
   ]
  },
  {
   "cell_type": "markdown",
   "id": "c4e0411b",
   "metadata": {},
   "source": []
  }
 ],
 "metadata": {
  "kernelspec": {
   "display_name": "dlp",
   "language": "python",
   "name": "python3"
  },
  "language_info": {
   "codemirror_mode": {
    "name": "ipython",
    "version": 3
   },
   "file_extension": ".py",
   "mimetype": "text/x-python",
   "name": "python",
   "nbconvert_exporter": "python",
   "pygments_lexer": "ipython3",
   "version": "3.11.11"
  }
 },
 "nbformat": 4,
 "nbformat_minor": 5
}
