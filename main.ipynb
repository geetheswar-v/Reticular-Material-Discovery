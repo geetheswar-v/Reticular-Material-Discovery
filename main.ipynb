{
 "cells": [
  {
   "cell_type": "markdown",
   "id": "12387fe9",
   "metadata": {},
   "source": [
    "# Discovery of Reticular Materials for C02 Capture\n",
    "\n",
    "## MOF Reticular Materials\n",
    "Metal-Organic Frameworks (MOFs) are crystalline materials consisting of metal ions or clusters coordinated to organic ligands to form one-, two-, or three-dimensional structures. They have exceptional properties including:\n",
    "\n",
    "- Ultra-high porosity\n",
    "- Large surface areas (up to 7,000 m²/g)\n",
    "- Tunable pore sizes and chemical functionalities\n",
    "\n",
    "MOFs have applications in gas storage, separation, catalysis, sensing, and drug delivery. However, with millions of possible combinations of building blocks, finding MOFs with optimal properties for CO2 capture is challenging."
   ]
  },
  {
   "cell_type": "code",
   "execution_count": 2,
   "id": "32900dd2",
   "metadata": {},
   "outputs": [
    {
     "data": {
      "application/vnd.jupyter.widget-view+json": {
       "model_id": "3ce75dc7c7ce4fd3978e34deab17d973",
       "version_major": 2,
       "version_minor": 0
      },
      "text/plain": []
     },
     "metadata": {},
     "output_type": "display_data"
    }
   ],
   "source": [
    "import warnings\n",
    "warnings.filterwarnings(\"ignore\")\n",
    "\n",
    "# Import necessary libraries\n",
    "import sys\n",
    "import math\n",
    "import numpy as np\n",
    "import torch\n",
    "import matplotlib.pyplot as plt\n",
    "import seaborn as sns\n",
    "import os\n",
    "import nglview as nv\n",
    "import tempfile\n",
    "import subprocess\n",
    "\n",
    "# Import framework components\n",
    "from material.builder import MaterialBuilder\n",
    "from material.masks import BaseMask, RMSDMask, AngleMask, CombinedMask\n",
    "\n",
    "# Set plotting style\n",
    "sns.set_theme()\n",
    "plt.rcParams.update({'font.size': 12})"
   ]
  },
  {
   "cell_type": "markdown",
   "id": "b603268d",
   "metadata": {},
   "source": [
    "## 1. Understanding Masks for Building Block Selection\n",
    "\n",
    "Masks are crucial components that determine which building blocks are compatible with each position in a topology. They filter the available options based on geometric and structural compatibility.\n",
    "\n",
    "Three types of masks are implemented:\n",
    "\n",
    "1. **RMSDMask**: Filters building blocks based on Root Mean Square Deviation (RMSD) between the building block and local structure in the topology\n",
    "2. **AngleMask**: Filters based on angular deviations between connection points\n",
    "3. **CombinedMask**: Uses both RMSD and angular criteria for more precise filtering\n",
    "\n",
    "Let's explore how these different masks affect the MOF design process."
   ]
  },
  {
   "cell_type": "markdown",
   "id": "ce80f215",
   "metadata": {},
   "source": [
    "### 1.1 Loading a Topology\n",
    "\n",
    "First, we need to define a topology that serves as the blueprint for our MOF design. We'll use the \"ffc\" topology, which is a primitive cubic structure commonly used in MOF design."
   ]
  },
  {
   "cell_type": "code",
   "execution_count": 17,
   "id": "6d2f8e91",
   "metadata": {},
   "outputs": [
    {
     "name": "stdout",
     "output_type": "stream",
     "text": [
      "Topology: tbo\n",
      "Number of unique nodes: 2\n",
      "Number of edge types: 1\n",
      "Total slots (nodes + edges): 3\n"
     ]
    }
   ],
   "source": [
    "# Define the topology to use\n",
    "topology_string = \"tbo\"\n",
    "\n",
    "# Create a basic material builder with default RMSDMask\n",
    "material_builder = MaterialBuilder(topology_string)\n",
    "\n",
    "# Print some information about the topology\n",
    "print(f\"Topology: {topology_string}\")\n",
    "print(f\"Number of unique nodes: {material_builder.n_nodes}\")\n",
    "print(f\"Number of edge types: {material_builder.topology.n_edge_types}\")\n",
    "print(f\"Total slots (nodes + edges): {material_builder.n_slots}\")"
   ]
  },
  {
   "cell_type": "markdown",
   "id": "7b58e5d6",
   "metadata": {},
   "source": [
    "### 1.2 Comparing Different Masks"
   ]
  },
  {
   "cell_type": "code",
   "execution_count": 18,
   "id": "90716900",
   "metadata": {},
   "outputs": [
    {
     "name": "stdout",
     "output_type": "stream",
     "text": [
      "Number of allowed building blocks at each node position:\n",
      "Position 0: RMSD=73, Angle=73, Combined=73\n",
      "Position 1: RMSD=102, Angle=22, Combined=19\n"
     ]
    }
   ],
   "source": [
    "# Create different masks\n",
    "rmsd_mask = RMSDMask(rmsd_cutoff=0.3)  # Default: more permissive\n",
    "angle_mask = AngleMask(angle_cutoff=30.0)  # Filter by connection point angles\n",
    "combined_mask = CombinedMask(rmsd_cutoff=0.3, angle_cutoff=30.0)  # More restrictive\n",
    "\n",
    "# Create material builders with different masks\n",
    "builder_rmsd = MaterialBuilder(topology_string, mask=rmsd_mask)\n",
    "builder_angle = MaterialBuilder(topology_string, mask=angle_mask)\n",
    "builder_combined = MaterialBuilder(topology_string, mask=combined_mask)\n",
    "\n",
    "# Compare the number of allowed building blocks for each position\n",
    "print(\"Number of allowed building blocks at each node position:\")\n",
    "for i in range(builder_rmsd.n_nodes):\n",
    "    rmsd_allowed = len(builder_rmsd.mask.forward_actions_at_each_slot[i])\n",
    "    angle_allowed = len(builder_angle.mask.forward_actions_at_each_slot[i])\n",
    "    combined_allowed = len(builder_combined.mask.forward_actions_at_each_slot[i])\n",
    "    print(f\"Position {i}: RMSD={rmsd_allowed}, Angle={angle_allowed}, Combined={combined_allowed}\")"
   ]
  },
  {
   "cell_type": "code",
   "execution_count": 19,
   "id": "26d32eec",
   "metadata": {},
   "outputs": [
    {
     "name": "stdout",
     "output_type": "stream",
     "text": [
      "Total possible building blocks\n",
      "RMSD: 1,638,120 Angle: 353,320 Combined: 305,140\n"
     ]
    }
   ],
   "source": [
    "# Total Possible building blocks can be constructed with above constraints\n",
    "rmsd_allowed = math.prod([len(x) for x in builder_rmsd.mask.forward_actions_at_each_slot])\n",
    "angle_allowed = math.prod([len(x) for x in builder_angle.mask.forward_actions_at_each_slot])\n",
    "combined_allowed = math.prod([len(x) for x in builder_combined.mask.forward_actions_at_each_slot])\n",
    "print(f\"Total possible building blocks\")\n",
    "print(f\"RMSD: {rmsd_allowed:,} Angle: {angle_allowed:,} Combined: {combined_allowed:,}\")"
   ]
  },
  {
   "cell_type": "markdown",
   "id": "2a65a200",
   "metadata": {},
   "source": [
    "### 1.3 Visualizing Structures"
   ]
  },
  {
   "cell_type": "code",
   "execution_count": 31,
   "id": "28821448",
   "metadata": {},
   "outputs": [
    {
     "name": "stdout",
     "output_type": "stream",
     "text": [
      "Random sequence: ['N488', 'N417', 'E181']\n"
     ]
    },
    {
     "data": {
      "application/vnd.jupyter.widget-view+json": {
       "model_id": "d5a13af168b148f2a360be8b2fd9aac1",
       "version_major": 2,
       "version_minor": 0
      },
      "text/plain": [
       "NGLWidget()"
      ]
     },
     "metadata": {},
     "output_type": "display_data"
    }
   ],
   "source": [
    "seq = builder_combined.random_sequence()\n",
    "print(f\"Random sequence: {seq}\")\n",
    "\n",
    "structure = builder_combined.make_structure(seq)\n",
    "nv.show_pymatgen(structure)"
   ]
  },
  {
   "cell_type": "markdown",
   "id": "c1b357a1",
   "metadata": {},
   "source": [
    "**Theoretical Insight: Choosing the Right Mask**\n",
    "\n",
    "The choice of mask involves a trade-off between:\n",
    "\n",
    "- **Exploration space**: More permissive masks (like basic RMSD) allow exploration of a larger design space\n",
    "- **Structural integrity**: More restrictive masks (like Combined) lead to more structurally sound MOFs\n",
    "\n",
    "**Best Uses:**\n",
    "- **RMSDMask** -> To explore a wide variety of potential structures\n",
    "- **AngleMask** -> when connection geometries are critical for application (H<sub>2</sub>O seperation fromAir)\n",
    "- **CombinedMask** -> when we need high-quality, structurally sound MOFs\n",
    "\n",
    "For CO2 capture applications, the CombinedMask typically provides the best balance because structural integrity is crucial for maintaining adsorption sites. But trying two masks and compare\n",
    "- Using Masks -> RMSDMask, CombinedMask"
   ]
  },
  {
   "cell_type": "markdown",
   "id": "7a7da483",
   "metadata": {},
   "source": [
    "## 2. Reward Functions for CO2 Capture\n",
    "\n",
    "To guide the MOF design process for CO2 capture, we need reward functions that quantify how well a MOF performs for this specific application. Key properties for CO2 capture include:\n",
    "\n",
    "- **Surface area**: Larger surface areas generally provide more adsorption sites for CO2 molecules\n",
    "- **Pore size distribution**: Pores of appropriate size can selectively capture CO2 over other gases\n",
    "- **Chemical functionality**: Specific functional groups that interact strongly with CO2\n",
    "\n",
    "Implementing Surface Area Rewarder"
   ]
  },
  {
   "cell_type": "code",
   "execution_count": 4,
   "id": "9d9f116f",
   "metadata": {},
   "outputs": [],
   "source": [
    "class SurfaceAreaRewarder():\n",
    "    def __init__(self, builder, cutoff, temporary_dir = \"scratch\"):\n",
    "        self.builder = builder\n",
    "        self.cutoff = cutoff\n",
    "        self.temporary_dir = temporary_dir\n",
    "        os.makedirs(temporary_dir, exist_ok=True)\n",
    "\n",
    "    def reward(self, sequence):\n",
    "        with tempfile.NamedTemporaryFile(suffix=\".cif\", dir=self.temporary_dir, delete=True) as temp:\n",
    "            mof = self.builder.make_pormake_mof(sequence)\n",
    "            mof.write_cif(temp.name)\n",
    "\n",
    "            command=(['./network']  + ['-sa'] + ['1.525'] + ['1.525'] + ['2000'] + [temp.name])\n",
    "            subprocess.run(command,stdout = subprocess.DEVNULL)\n",
    "\n",
    "            output_filename = temp.name.removesuffix(\".cif\") + \".sa\"\n",
    "            \n",
    "            if os.path.exists(output_filename) == False:\n",
    "                output_reward = 0\n",
    "            else: \n",
    "                with open(output_filename) as result_file:\n",
    "                    lines=[] \n",
    "                    for line in result_file:\n",
    "                        lines.append(line.rstrip())\n",
    "\n",
    "                    # Zeo++ writes empty output file for sone non-physical MOFs. Reward them as 0.\n",
    "                    if len(lines)==0:\n",
    "                        output_reward = 0\n",
    "                    else:\n",
    "                        frags=lines[0].split()\n",
    "                        NASA=float(frags[17])\n",
    "                        ASA=float(frags[11])\n",
    "\n",
    "                        # Gravimetric surface area is NASA + ASA\n",
    "                        area = ASA + NASA\n",
    "\n",
    "                        output_reward = math.exp((area - self.cutoff) / self.cutoff)\n",
    "            \n",
    "                # Remove zeo++ output file\n",
    "                # Temp file will be removed by the surrounding \"with\"\n",
    "                os.remove(output_filename)            \n",
    "\n",
    "            return output_reward"
   ]
  },
  {
   "cell_type": "code",
   "execution_count": 5,
   "id": "da231feb",
   "metadata": {},
   "outputs": [],
   "source": [
    "rewarder_combined = SurfaceAreaRewarder(builder_combined, 5000)\n",
    "rewarder_rmsd = SurfaceAreaRewarder(builder_rmsd, 5000)"
   ]
  },
  {
   "cell_type": "code",
   "execution_count": 12,
   "id": "8f6712dc",
   "metadata": {},
   "outputs": [
    {
     "name": "stdout",
     "output_type": "stream",
     "text": [
      "['N614', 'N201', 'N408', 'E8', 'E20'] 1.894244351678183\n"
     ]
    }
   ],
   "source": [
    "seq = builder_combined.random_sequence()\n",
    "print(seq, rewarder_combined.reward(seq))"
   ]
  },
  {
   "cell_type": "code",
   "execution_count": 7,
   "id": "4606cfd8",
   "metadata": {},
   "outputs": [
    {
     "name": "stdout",
     "output_type": "stream",
     "text": [
      "['N512', 'N387', 'N411', 'E189', 'E162'] 1.1690225823873872\n"
     ]
    }
   ],
   "source": [
    "seq = builder_rmsd.random_sequence()\n",
    "print(seq, rewarder_rmsd.reward(seq))"
   ]
  },
  {
   "cell_type": "markdown",
   "id": "d88e78b3",
   "metadata": {},
   "source": [
    "## 3. "
   ]
  },
  {
   "cell_type": "code",
   "execution_count": 6,
   "id": "895f3194",
   "metadata": {},
   "outputs": [],
   "source": [
    "from gflow import LSTM, SequenceEnvironment, TrajectoryBalanceGFlowNet\n",
    "import torch\n",
    "\n",
    "device = torch.device('cpu')"
   ]
  },
  {
   "cell_type": "code",
   "execution_count": 7,
   "id": "b35c46c0",
   "metadata": {},
   "outputs": [],
   "source": [
    "env_rmsd = SequenceEnvironment(\n",
    "    token_vocabulary = builder_rmsd.token_vocabulary, \n",
    "    termination_token = builder_rmsd.termination_token,\n",
    "    reward_function = lambda s: rewarder_rmsd.reward(s),\n",
    "    render_function = None,\n",
    "    mask = builder_rmsd.mask,\n",
    "    max_sequence_length = builder_rmsd.n_slots, min_sequence_length = builder_rmsd.n_slots\n",
    "    )\n",
    "\n",
    "model_rmsd = LSTM(token_vocabulary = builder_rmsd.token_vocabulary, n_actions = env_rmsd.action_space.n).to(device)\n",
    "agent_rmsd = TrajectoryBalanceGFlowNet(env_rmsd, model_rmsd).to(device)"
   ]
  },
  {
   "cell_type": "code",
   "execution_count": 9,
   "id": "89c61013",
   "metadata": {},
   "outputs": [
    {
     "name": "stderr",
     "output_type": "stream",
     "text": [
      "2688.259, 1.1946440935134888: 100%|██████████| 200/200 [03:16<00:00,  1.02it/s]\n"
     ]
    }
   ],
   "source": [
    "agent_rmsd.train(True)\n",
    "observations, infos, rewards, losses, logZs = agent_rmsd.fit(learning_rate=5e-3, num_episodes=200, minibatch_size=5)"
   ]
  },
  {
   "cell_type": "code",
   "execution_count": null,
   "id": "11381f9b",
   "metadata": {},
   "outputs": [],
   "source": []
  },
  {
   "cell_type": "code",
   "execution_count": null,
   "id": "475ee9b3",
   "metadata": {},
   "outputs": [],
   "source": []
  }
 ],
 "metadata": {
  "kernelspec": {
   "display_name": "dlp",
   "language": "python",
   "name": "python3"
  },
  "language_info": {
   "codemirror_mode": {
    "name": "ipython",
    "version": 3
   },
   "file_extension": ".py",
   "mimetype": "text/x-python",
   "name": "python",
   "nbconvert_exporter": "python",
   "pygments_lexer": "ipython3",
   "version": "3.11.11"
  }
 },
 "nbformat": 4,
 "nbformat_minor": 5
}
