{
 "cells": [
  {
   "cell_type": "code",
   "execution_count": 1,
   "id": "a5a9930b",
   "metadata": {},
   "outputs": [],
   "source": [
    "import warnings\n",
    "warnings.filterwarnings(\"ignore\")"
   ]
  },
  {
   "cell_type": "markdown",
   "id": "7c530fdb",
   "metadata": {},
   "source": [
    "## MOFs and COFs\n",
    "**MOFs** are crystalline materials made from metal nodes (clusters or ions) connected by organic linkers, forming porous frameworks. They are highly tunable and used in gas storage, catalysis, and separation.\n",
    "\n",
    "**COFs** are similar, but use only light elements (C, H, B, N, O, etc.) and covalent bonds to form 2D or 3D porous networks. Both are examples of reticular chemistry, where modular building blocks are assembled into extended structures.\n",
    "\n",
    "## Root Mean Square Deviation\n",
    "- **RMSD (Root Mean Square Deviation)** measures geometric similarity between the required local structure (from the topology) and a candidate building block.\n",
    "- Only building blocks with RMSD below a threshold are allowed at each position.\n",
    "- This ensures that the assembled structure is geometrically feasible and chemically plausible.\n",
    "\n",
    "**Mathematical Assumption:**\n",
    "If the RMSD between a building block and the target geometry is small, the block can fit into the network without large distortions, making synthesis more likely."
   ]
  },
  {
   "cell_type": "code",
   "execution_count": 2,
   "id": "a5445ad9",
   "metadata": {},
   "outputs": [
    {
     "data": {
      "application/vnd.jupyter.widget-view+json": {
       "model_id": "33e7ca5d7fc04bf2ab4dad3b108eecf1",
       "version_major": 2,
       "version_minor": 0
      },
      "text/plain": []
     },
     "metadata": {},
     "output_type": "display_data"
    }
   ],
   "source": [
    "from material import MaterialBuilder\n",
    "import nglview as nv\n",
    "import math"
   ]
  },
  {
   "cell_type": "code",
   "execution_count": 3,
   "id": "f8ac9eaa",
   "metadata": {},
   "outputs": [],
   "source": [
    "builder = MaterialBuilder(topology='ffc', include_edges=True)\n",
    "possible_bbs = math.prod([len(x) for x in builder.mask.forward_actions_at_each_slot])"
   ]
  },
  {
   "cell_type": "code",
   "execution_count": 4,
   "id": "d0a993b1",
   "metadata": {},
   "outputs": [
    {
     "name": "stdout",
     "output_type": "stream",
     "text": [
      "ALL POSSIBLE BUILDING BLOCKS: 23_177_792_000\n"
     ]
    }
   ],
   "source": [
    "print(f\"ALL POSSIBLE BUILDING BLOCKS: {possible_bbs:_}\")"
   ]
  },
  {
   "cell_type": "code",
   "execution_count": 18,
   "id": "28c020ec",
   "metadata": {},
   "outputs": [
    {
     "name": "stdout",
     "output_type": "stream",
     "text": [
      "SEQUENCE: ['N29', 'N91', 'N488', 'E108', 'E122']\n"
     ]
    },
    {
     "data": {
      "application/vnd.jupyter.widget-view+json": {
       "model_id": "4cbf850231d54f6287a57db3e6912edd",
       "version_major": 2,
       "version_minor": 0
      },
      "text/plain": [
       "NGLWidget()"
      ]
     },
     "metadata": {},
     "output_type": "display_data"
    }
   ],
   "source": [
    "seq = builder.random_sequence()\n",
    "structure = builder.build_structure(seq)\n",
    "print(f\"SEQUENCE: {seq}\")\n",
    "nv.show_pymatgen(structure)"
   ]
  },
  {
   "cell_type": "code",
   "execution_count": null,
   "id": "e29ffcec",
   "metadata": {},
   "outputs": [],
   "source": []
  }
 ],
 "metadata": {
  "kernelspec": {
   "display_name": "dlp",
   "language": "python",
   "name": "python3"
  },
  "language_info": {
   "codemirror_mode": {
    "name": "ipython",
    "version": 3
   },
   "file_extension": ".py",
   "mimetype": "text/x-python",
   "name": "python",
   "nbconvert_exporter": "python",
   "pygments_lexer": "ipython3",
   "version": "3.11.11"
  }
 },
 "nbformat": 4,
 "nbformat_minor": 5
}
